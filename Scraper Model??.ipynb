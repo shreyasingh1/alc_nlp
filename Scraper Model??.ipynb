{
 "cells": [
  {
   "cell_type": "code",
   "execution_count": 35,
   "id": "12446eba",
   "metadata": {},
   "outputs": [],
   "source": [
    "import numpy as np\n",
    "import pandas as pd\n",
    "import matplotlib.pyplot as plt\n",
    "\n",
    "from sklearn.model_selection import train_test_split"
   ]
  },
  {
   "cell_type": "code",
   "execution_count": 74,
   "id": "32cedc84",
   "metadata": {
    "scrolled": true
   },
   "outputs": [
    {
     "name": "stdout",
     "output_type": "stream",
     "text": [
      "(1311, 7)\n"
     ]
    },
    {
     "data": {
      "text/html": [
       "<div>\n",
       "<style scoped>\n",
       "    .dataframe tbody tr th:only-of-type {\n",
       "        vertical-align: middle;\n",
       "    }\n",
       "\n",
       "    .dataframe tbody tr th {\n",
       "        vertical-align: top;\n",
       "    }\n",
       "\n",
       "    .dataframe thead th {\n",
       "        text-align: right;\n",
       "    }\n",
       "</style>\n",
       "<table border=\"1\" class=\"dataframe\">\n",
       "  <thead>\n",
       "    <tr style=\"text-align: right;\">\n",
       "      <th></th>\n",
       "      <th>Name</th>\n",
       "      <th>Headline</th>\n",
       "      <th>Company</th>\n",
       "      <th>Experiences</th>\n",
       "      <th>Education</th>\n",
       "      <th>Yes/No/Maybe</th>\n",
       "      <th>Notes</th>\n",
       "    </tr>\n",
       "  </thead>\n",
       "  <tbody>\n",
       "    <tr>\n",
       "      <th>0</th>\n",
       "      <td>Andrea Gewirtz</td>\n",
       "      <td>Health &amp; Wealth Strategist at WellBeing &amp; Worth</td>\n",
       "      <td>WellbeingandWorth</td>\n",
       "      <td>Founder @ WellbeingandWorth, Oct 2019 – Presen...</td>\n",
       "      <td>The Johns Hopkins University, 1986 – 2001\\n Pe...</td>\n",
       "      <td>No</td>\n",
       "      <td>0</td>\n",
       "    </tr>\n",
       "    <tr>\n",
       "      <th>1</th>\n",
       "      <td>Muskaan N.</td>\n",
       "      <td>Founder at Aromatherapy University</td>\n",
       "      <td>Aromatherapy University</td>\n",
       "      <td>Founder @ Aromatherapy University\\n  Self-empl...</td>\n",
       "      <td>Master's degree @ Harvard University, 2019 – 2...</td>\n",
       "      <td>No</td>\n",
       "      <td>0</td>\n",
       "    </tr>\n",
       "    <tr>\n",
       "      <th>2</th>\n",
       "      <td>Michael Morton, CFP®, ChFC®</td>\n",
       "      <td>Financial Advisor for Entrepreneurs and Tech P...</td>\n",
       "      <td>Morton Financial Advice</td>\n",
       "      <td>Founder @ Morton Financial Advice\\n  Self-empl...</td>\n",
       "      <td>BA @ Swarthmore College, 1993 – 1997\\n MS @ Th...</td>\n",
       "      <td>No</td>\n",
       "      <td>0</td>\n",
       "    </tr>\n",
       "    <tr>\n",
       "      <th>3</th>\n",
       "      <td>Alvin Alexander</td>\n",
       "      <td>Founder &amp; CEO at Orion Applied Science &amp; Techn...</td>\n",
       "      <td>Orion Applied Science &amp; Technology, LLC</td>\n",
       "      <td>Founder &amp; CEO @ Orion Applied Science &amp; Techno...</td>\n",
       "      <td>MS @ The Johns Hopkins University, 2010 – 2014...</td>\n",
       "      <td>No</td>\n",
       "      <td>0</td>\n",
       "    </tr>\n",
       "    <tr>\n",
       "      <th>4</th>\n",
       "      <td>Tracey Miller</td>\n",
       "      <td>Women's Wellness Exchange, Adventures Within, LLC</td>\n",
       "      <td>Women's Wellness Exchange</td>\n",
       "      <td>Founder @ Women's Wellness Exchange, Dec 2020 ...</td>\n",
       "      <td>Master’s Degree @ The Johns Hopkins University...</td>\n",
       "      <td>No</td>\n",
       "      <td>0</td>\n",
       "    </tr>\n",
       "    <tr>\n",
       "      <th>5</th>\n",
       "      <td>Mark Nicastre</td>\n",
       "      <td>Founder at Fitler Strategies</td>\n",
       "      <td>Fitler Strategies</td>\n",
       "      <td>Founder @ Fitler Strategies \\n  Self-employed,...</td>\n",
       "      <td>MA @ The Johns Hopkins University\\n BA @ The J...</td>\n",
       "      <td>No</td>\n",
       "      <td>0</td>\n",
       "    </tr>\n",
       "    <tr>\n",
       "      <th>6</th>\n",
       "      <td>Carrie Varoquiers</td>\n",
       "      <td>Chief Philanthropy Officer, Workday &amp; Founder,...</td>\n",
       "      <td>0</td>\n",
       "      <td>Chief Philanthropy Officer @ Workday, 2021 – P...</td>\n",
       "      <td>BA @ University of California, Berkeley\\n MPH ...</td>\n",
       "      <td>No</td>\n",
       "      <td>0</td>\n",
       "    </tr>\n",
       "    <tr>\n",
       "      <th>7</th>\n",
       "      <td>Alexander Velikanov</td>\n",
       "      <td>Co-Founder and CTO at Pearl 👩‍💻</td>\n",
       "      <td>Pearl</td>\n",
       "      <td>Co-Founder and CTO @ Pearl\\n  Full-time, Sep 2...</td>\n",
       "      <td>Bachelor of Science - BS @ University of Calif...</td>\n",
       "      <td>No</td>\n",
       "      <td>Already in Trello</td>\n",
       "    </tr>\n",
       "    <tr>\n",
       "      <th>8</th>\n",
       "      <td>Warren Strauss</td>\n",
       "      <td>President at Karna, LLC</td>\n",
       "      <td>Karna, LLC</td>\n",
       "      <td>President @ Karna, LLC, Sep 2019 – Present\\n F...</td>\n",
       "      <td>Sc.M. @ The Johns Hopkins University, 1990 – 1...</td>\n",
       "      <td>No</td>\n",
       "      <td>0</td>\n",
       "    </tr>\n",
       "    <tr>\n",
       "      <th>9</th>\n",
       "      <td>Robert Kviby</td>\n",
       "      <td>Chairman @ Staccs | Founder of The Growth Co.</td>\n",
       "      <td>The Growth Co.</td>\n",
       "      <td>Founder @ The Growth Co., Jan 2018 – Present\\n...</td>\n",
       "      <td>Duke University, 2015 – 2015\\n The Johns Hopki...</td>\n",
       "      <td>No</td>\n",
       "      <td>0</td>\n",
       "    </tr>\n",
       "  </tbody>\n",
       "</table>\n",
       "</div>"
      ],
      "text/plain": [
       "                          Name  \\\n",
       "0               Andrea Gewirtz   \n",
       "1                   Muskaan N.   \n",
       "2  Michael Morton, CFP®, ChFC®   \n",
       "3              Alvin Alexander   \n",
       "4                Tracey Miller   \n",
       "5                Mark Nicastre   \n",
       "6            Carrie Varoquiers   \n",
       "7          Alexander Velikanov   \n",
       "8               Warren Strauss   \n",
       "9                 Robert Kviby   \n",
       "\n",
       "                                            Headline  \\\n",
       "0    Health & Wealth Strategist at WellBeing & Worth   \n",
       "1                 Founder at Aromatherapy University   \n",
       "2  Financial Advisor for Entrepreneurs and Tech P...   \n",
       "3  Founder & CEO at Orion Applied Science & Techn...   \n",
       "4  Women's Wellness Exchange, Adventures Within, LLC   \n",
       "5                       Founder at Fitler Strategies   \n",
       "6  Chief Philanthropy Officer, Workday & Founder,...   \n",
       "7                    Co-Founder and CTO at Pearl 👩‍💻   \n",
       "8                            President at Karna, LLC   \n",
       "9      Chairman @ Staccs | Founder of The Growth Co.   \n",
       "\n",
       "                                   Company  \\\n",
       "0                        WellbeingandWorth   \n",
       "1                  Aromatherapy University   \n",
       "2                  Morton Financial Advice   \n",
       "3  Orion Applied Science & Technology, LLC   \n",
       "4                Women's Wellness Exchange   \n",
       "5                        Fitler Strategies   \n",
       "6                                        0   \n",
       "7                                    Pearl   \n",
       "8                               Karna, LLC   \n",
       "9                           The Growth Co.   \n",
       "\n",
       "                                         Experiences  \\\n",
       "0  Founder @ WellbeingandWorth, Oct 2019 – Presen...   \n",
       "1  Founder @ Aromatherapy University\\n  Self-empl...   \n",
       "2  Founder @ Morton Financial Advice\\n  Self-empl...   \n",
       "3  Founder & CEO @ Orion Applied Science & Techno...   \n",
       "4  Founder @ Women's Wellness Exchange, Dec 2020 ...   \n",
       "5  Founder @ Fitler Strategies \\n  Self-employed,...   \n",
       "6  Chief Philanthropy Officer @ Workday, 2021 – P...   \n",
       "7  Co-Founder and CTO @ Pearl\\n  Full-time, Sep 2...   \n",
       "8  President @ Karna, LLC, Sep 2019 – Present\\n F...   \n",
       "9  Founder @ The Growth Co., Jan 2018 – Present\\n...   \n",
       "\n",
       "                                           Education Yes/No/Maybe  \\\n",
       "0  The Johns Hopkins University, 1986 – 2001\\n Pe...           No   \n",
       "1  Master's degree @ Harvard University, 2019 – 2...           No   \n",
       "2  BA @ Swarthmore College, 1993 – 1997\\n MS @ Th...           No   \n",
       "3  MS @ The Johns Hopkins University, 2010 – 2014...           No   \n",
       "4  Master’s Degree @ The Johns Hopkins University...           No   \n",
       "5  MA @ The Johns Hopkins University\\n BA @ The J...           No   \n",
       "6  BA @ University of California, Berkeley\\n MPH ...           No   \n",
       "7  Bachelor of Science - BS @ University of Calif...           No   \n",
       "8  Sc.M. @ The Johns Hopkins University, 1990 – 1...           No   \n",
       "9  Duke University, 2015 – 2015\\n The Johns Hopki...           No   \n",
       "\n",
       "               Notes  \n",
       "0                  0  \n",
       "1                  0  \n",
       "2                  0  \n",
       "3                  0  \n",
       "4                  0  \n",
       "5                  0  \n",
       "6                  0  \n",
       "7  Already in Trello  \n",
       "8                  0  \n",
       "9                  0  "
      ]
     },
     "execution_count": 74,
     "metadata": {},
     "output_type": "execute_result"
    }
   ],
   "source": [
    "df = pd.read_csv(\"LinkedIn Scraper Results Batch 1.csv\")\n",
    "df = df[df.columns[:-13]]\n",
    "df = df.drop(columns = [\"Email\", \"Assigned To\", \"LinkedIn URLs\"])\n",
    "df = df.fillna(\"0\")\n",
    "print(df.shape)\n",
    "df.head(10)"
   ]
  },
  {
   "cell_type": "code",
   "execution_count": 75,
   "id": "50f9271a",
   "metadata": {},
   "outputs": [
    {
     "name": "stderr",
     "output_type": "stream",
     "text": [
      "<ipython-input-75-9983109f3e6f>:7: SettingWithCopyWarning: \n",
      "A value is trying to be set on a copy of a slice from a DataFrame\n",
      "\n",
      "See the caveats in the documentation: https://pandas.pydata.org/pandas-docs/stable/user_guide/indexing.html#returning-a-view-versus-a-copy\n",
      "  df[\"Outcome\"][row] = 0\n",
      "<ipython-input-75-9983109f3e6f>:9: SettingWithCopyWarning: \n",
      "A value is trying to be set on a copy of a slice from a DataFrame\n",
      "\n",
      "See the caveats in the documentation: https://pandas.pydata.org/pandas-docs/stable/user_guide/indexing.html#returning-a-view-versus-a-copy\n",
      "  df[\"Outcome\"][row] = 1\n",
      "<ipython-input-75-9983109f3e6f>:11: SettingWithCopyWarning: \n",
      "A value is trying to be set on a copy of a slice from a DataFrame\n",
      "\n",
      "See the caveats in the documentation: https://pandas.pydata.org/pandas-docs/stable/user_guide/indexing.html#returning-a-view-versus-a-copy\n",
      "  df[\"Outcome\"][row] = 2\n"
     ]
    }
   ],
   "source": [
    "# making outcome binary (no = 0, maybe = 1, yes = 2)\n",
    "\n",
    "df[\"Outcome\"] = np.zeros(df.shape[0])\n",
    "\n",
    "for row in df.index:\n",
    "    if df[\"Yes/No/Maybe\"][row] == \"No\":\n",
    "        df[\"Outcome\"][row] = 0\n",
    "    if df[\"Yes/No/Maybe\"][row] == \"Maybe\":\n",
    "        df[\"Outcome\"][row] = 1\n",
    "    if df[\"Yes/No/Maybe\"][row] == \"Yes\":\n",
    "        df[\"Outcome\"][row] = 2\n"
   ]
  },
  {
   "cell_type": "code",
   "execution_count": 76,
   "id": "45b0fda6",
   "metadata": {},
   "outputs": [
    {
     "data": {
      "text/plain": [
       "0.0    1218\n",
       "1.0      56\n",
       "2.0      37\n",
       "Name: Outcome, dtype: int64"
      ]
     },
     "execution_count": 76,
     "metadata": {},
     "output_type": "execute_result"
    }
   ],
   "source": [
    "df[\"Outcome\"].value_counts()"
   ]
  },
  {
   "cell_type": "code",
   "execution_count": null,
   "id": "d61abf71",
   "metadata": {},
   "outputs": [],
   "source": []
  },
  {
   "cell_type": "code",
   "execution_count": 77,
   "id": "0173bcb9",
   "metadata": {},
   "outputs": [
    {
     "data": {
      "text/plain": [
       "(1311, 32)"
      ]
     },
     "execution_count": 77,
     "metadata": {},
     "output_type": "execute_result"
    }
   ],
   "source": [
    "# trying bag of words vectorization\n",
    "\n",
    "from sklearn.feature_extraction.text import TfidfVectorizer\n",
    "\n",
    "tfidf = TfidfVectorizer(sublinear_tf=True, min_df=5, norm='l2', encoding='latin-1', ngram_range=(1, 2), stop_words='english')\n",
    "features = tfidf.fit_transform(df.Name).toarray()\n",
    "labels = df.Outcome\n",
    "features.shape\n",
    "\n"
   ]
  },
  {
   "cell_type": "code",
   "execution_count": 82,
   "id": "f5c32cbb",
   "metadata": {},
   "outputs": [],
   "source": [
    "# multinomial naive bayes (x is ONLY headline, y is outcome 0/1/2)\n",
    "\n",
    "from sklearn.model_selection import train_test_split\n",
    "from sklearn.feature_extraction.text import CountVectorizer\n",
    "from sklearn.feature_extraction.text import TfidfTransformer\n",
    "from sklearn.naive_bayes import MultinomialNB\n",
    "\n",
    "X = df.drop(columns = \"Outcome\")\n",
    "y = df[\"Outcome\"]\n",
    "\n",
    "X_train, X_test, y_train, y_test = train_test_split(X[\"Experiences\"], y, test_size = 0.25, random_state = 42)\n",
    "\n",
    "count_vect = CountVectorizer()\n",
    "X_train_counts = count_vect.fit_transform(X_train)\n",
    "\n",
    "tfidf_transformer = TfidfTransformer()\n",
    "X_train_tfidf = tfidf_transformer.fit_transform(X_train_counts)\n",
    "\n",
    "clf = MultinomialNB().fit(X_train_tfidf, y_train)"
   ]
  },
  {
   "cell_type": "code",
   "execution_count": 84,
   "id": "54232ad3",
   "metadata": {},
   "outputs": [
    {
     "data": {
      "text/plain": [
       "array([0., 0., 0., 0., 0., 0., 0., 0., 0., 0., 0., 0., 0., 0., 0., 0., 0.,\n",
       "       0., 0., 0., 0., 0., 0., 0., 0., 0., 0., 0., 0., 0., 0., 0., 0., 0.,\n",
       "       0., 0., 0., 0., 0., 0., 0., 0., 0., 0., 0., 0., 0., 0., 0., 0., 0.,\n",
       "       0., 0., 0., 0., 0., 0., 0., 0., 0., 0., 0., 0., 0., 0., 0., 0., 0.,\n",
       "       0., 0., 0., 0., 0., 0., 0., 0., 0., 0., 0., 0., 0., 0., 0., 0., 0.,\n",
       "       0., 0., 0., 0., 0., 0., 0., 0., 0., 0., 0., 0., 0., 0., 0., 0., 0.,\n",
       "       0., 0., 0., 0., 0., 0., 0., 0., 0., 0., 0., 0., 0., 0., 0., 0., 0.,\n",
       "       0., 0., 0., 0., 0., 0., 0., 0., 0., 0., 0., 0., 0., 0., 0., 0., 0.,\n",
       "       0., 0., 0., 0., 0., 0., 0., 0., 0., 0., 0., 0., 0., 0., 0., 0., 0.,\n",
       "       0., 0., 0., 0., 0., 0., 0., 0., 0., 0., 0., 0., 0., 0., 0., 0., 0.,\n",
       "       0., 0., 0., 0., 0., 0., 0., 0., 0., 0., 0., 0., 0., 0., 0., 0., 0.,\n",
       "       0., 0., 0., 0., 0., 0., 0., 0., 0., 0., 0., 0., 0., 0., 0., 0., 0.,\n",
       "       0., 0., 0., 0., 0., 0., 0., 0., 0., 0., 0., 0., 0., 0., 0., 0., 0.,\n",
       "       0., 0., 0., 0., 0., 0., 0., 0., 0., 0., 0., 0., 0., 0., 0., 0., 0.,\n",
       "       0., 0., 0., 0., 0., 0., 0., 0., 0., 0., 0., 0., 0., 0., 0., 0., 0.,\n",
       "       0., 0., 0., 0., 0., 0., 0., 0., 0., 0., 0., 0., 0., 0., 0., 0., 0.,\n",
       "       0., 0., 0., 0., 0., 0., 0., 0., 0., 0., 0., 0., 0., 0., 0., 0., 0.,\n",
       "       0., 0., 0., 0., 0., 0., 0., 0., 0., 0., 0., 0., 0., 0., 0., 0., 0.,\n",
       "       0., 0., 0., 0., 0., 0., 0., 0., 0., 0., 0., 0., 0., 0., 0., 0., 0.,\n",
       "       0., 0., 0., 0., 0.])"
      ]
     },
     "execution_count": 84,
     "metadata": {},
     "output_type": "execute_result"
    }
   ],
   "source": [
    "X_test_transformed = count_vect.transform(X_test)\n",
    "\n",
    "#clf.predict(count_vect.transform([\"Health tech startup harvard yale princeton ceo money\"]))\n",
    "clf.predict(X_test_transformed)"
   ]
  },
  {
   "cell_type": "code",
   "execution_count": null,
   "id": "a2e41b4b",
   "metadata": {},
   "outputs": [],
   "source": []
  }
 ],
 "metadata": {
  "kernelspec": {
   "display_name": "Python 3",
   "language": "python",
   "name": "python3"
  },
  "language_info": {
   "codemirror_mode": {
    "name": "ipython",
    "version": 3
   },
   "file_extension": ".py",
   "mimetype": "text/x-python",
   "name": "python",
   "nbconvert_exporter": "python",
   "pygments_lexer": "ipython3",
   "version": "3.8.8"
  }
 },
 "nbformat": 4,
 "nbformat_minor": 5
}
